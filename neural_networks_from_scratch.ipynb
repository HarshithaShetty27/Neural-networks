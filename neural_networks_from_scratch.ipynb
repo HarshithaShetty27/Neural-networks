{
  "nbformat": 4,
  "nbformat_minor": 0,
  "metadata": {
    "colab": {
      "provenance": [],
      "authorship_tag": "ABX9TyNuZTotv7+y0pMDfPXyTTtL",
      "include_colab_link": true
    },
    "kernelspec": {
      "name": "python3",
      "display_name": "Python 3"
    },
    "language_info": {
      "name": "python"
    }
  },
  "cells": [
    {
      "cell_type": "markdown",
      "metadata": {
        "id": "view-in-github",
        "colab_type": "text"
      },
      "source": [
        "<a href=\"https://colab.research.google.com/github/HarshithaShetty27/Neural-networks/blob/main/neural_networks_from_scratch.ipynb\" target=\"_parent\"><img src=\"https://colab.research.google.com/assets/colab-badge.svg\" alt=\"Open In Colab\"/></a>"
      ]
    },
    {
      "cell_type": "markdown",
      "source": [
        "# CODING NEURONS AND LAYERS"
      ],
      "metadata": {
        "id": "duk15R28QJsm"
      }
    },
    {
      "cell_type": "markdown",
      "source": [
        "NEURON WITH 3 INPUTS"
      ],
      "metadata": {
        "id": "UFifEazsPDPp"
      }
    },
    {
      "cell_type": "code",
      "execution_count": 1,
      "metadata": {
        "colab": {
          "base_uri": "https://localhost:8080/"
        },
        "id": "NMKmROqw1Qfg",
        "outputId": "47e5d327-90b9-4435-b55e-b65f08c8c8f0"
      },
      "outputs": [
        {
          "output_type": "stream",
          "name": "stdout",
          "text": [
            "2.3\n"
          ]
        }
      ],
      "source": [
        "inputs = [1,2,3]\n",
        "weights = [0.2, 0.8, -0.5]\n",
        "bias = 2\n",
        "outputs = inputs[0]*weights[0] + inputs[1]*weights[1] + inputs[2]*weights[2] + bias\n",
        "print(outputs)"
      ]
    },
    {
      "cell_type": "markdown",
      "source": [
        "NEURON WITH 4 INPUTS"
      ],
      "metadata": {
        "id": "Ze12W-jIQs-P"
      }
    },
    {
      "cell_type": "code",
      "source": [
        "inputs = [1.0,2.0,3.0,2.5]\n",
        "weights = [0.2, 0.8, -0.5, 1.0]\n",
        "bias = 2.0\n",
        "outputs = inputs[0]*weights[0] + inputs[1]*weights[1] + inputs[2]*weights[2] + inputs[3]*weights[3] + bias\n",
        "print(outputs)"
      ],
      "metadata": {
        "colab": {
          "base_uri": "https://localhost:8080/"
        },
        "id": "bs-dM-U4QmpY",
        "outputId": "cd24c1d2-233c-49bc-cb79-135566a36e39"
      },
      "execution_count": 2,
      "outputs": [
        {
          "output_type": "stream",
          "name": "stdout",
          "text": [
            "4.8\n"
          ]
        }
      ]
    },
    {
      "cell_type": "markdown",
      "source": [
        "CODING A LAYER"
      ],
      "metadata": {
        "id": "tZVuhEbERGpE"
      }
    },
    {
      "cell_type": "code",
      "source": [
        "inputs = [1,2,3,2.5]\n",
        "weights = [[0.2, 0.8, -0.5, 1],\n",
        " [0.5, -0.91, 0.26, -0.5],\n",
        " [-0.26, -0.27, 0.17, 0.87]]\n",
        "\n",
        "weights1 = weights[0] #LIST OF WEIGHTS ASSOCIATED WITH 1ST NEURON : W11, W12, W13, W14\n",
        "weights2 = weights[1] #LIST OF WEIGHTS ASSOCIATED WITH 2ND NEURON : W21, W22, W23, W24\n",
        "weights3 = weights[2] #LIST OF WEIGHTS ASSOCIATED WITH 3RD NEURON : W31, W32, W33, W34\n",
        "\n",
        "biases = [2, 3, 0.5]\n",
        "\n",
        "outputs = [\n",
        "    #neuron 1\n",
        "    inputs[0]*weights1[0] + inputs[1]*weights1[1] + inputs[2]*weights1[2] + inputs[3]*weights1[3] + biases[0],\n",
        "    #neuron 2\n",
        "    inputs[0]*weights2[0] + inputs[1]*weights2[1] + inputs[2]*weights2[2] + inputs[3]*weights2[3] + biases[1],\n",
        "    #neuron 3\n",
        "    inputs[0]*weights3[0] + inputs[1]*weights3[1] + inputs[2]*weights3[2] + inputs[3]*weights3[3] + biases[2]\n",
        "]\n",
        "print(outputs)"
      ],
      "metadata": {
        "colab": {
          "base_uri": "https://localhost:8080/"
        },
        "id": "2gNhisj4RFPv",
        "outputId": "09a9d71f-23b2-4229-aec2-6aa0515d3495"
      },
      "execution_count": 3,
      "outputs": [
        {
          "output_type": "stream",
          "name": "stdout",
          "text": [
            "[4.8, 1.21, 2.385]\n"
          ]
        }
      ]
    },
    {
      "cell_type": "markdown",
      "source": [
        "USING LOOPS"
      ],
      "metadata": {
        "id": "LkSuDNcxV1NN"
      }
    },
    {
      "cell_type": "code",
      "source": [
        "inputs = [1,2,3,2.5]\n",
        "weights = [[0.2, 0.8, -0.5, 1],\n",
        " [0.5, -0.91, 0.26, -0.5],\n",
        " [-0.26, -0.27, 0.17, 0.87]]\n",
        "biases = [2, 3, 0.5]\n",
        "\n",
        "layer_outputs=[]\n",
        "\n",
        "for neuron_weights, neuron_bias in zip(weights,biases):\n",
        "  neuron_output=0\n",
        "  for neuron_input, weight in zip(inputs, neuron_weights):\n",
        "    neuron_output += neuron_input*weight\n",
        "  neuron_output+= neuron_bias\n",
        "  layer_outputs.append(neuron_output)\n",
        "\n",
        "print(layer_outputs)"
      ],
      "metadata": {
        "colab": {
          "base_uri": "https://localhost:8080/"
        },
        "id": "xvecxs3dU2wQ",
        "outputId": "2c1a5d03-2926-4b15-d247-6abd3c8b8c95"
      },
      "execution_count": 5,
      "outputs": [
        {
          "output_type": "stream",
          "name": "stdout",
          "text": [
            "[4.8, 1.21, 2.385]\n"
          ]
        }
      ]
    },
    {
      "cell_type": "markdown",
      "source": [
        "USING NUMPY"
      ],
      "metadata": {
        "id": "ig0AfW3YgumS"
      }
    },
    {
      "cell_type": "markdown",
      "source": [
        "*single neuron using numpy*"
      ],
      "metadata": {
        "id": "SsDMswO6hsaO"
      }
    },
    {
      "cell_type": "code",
      "source": [
        "import numpy as np\n",
        "inputs = [1,2,3,2.5]\n",
        "weights = [0.2, 0.8, -0.5, 1]\n",
        "bias = 2\n",
        "outputs = np.dot(inputs, weights) + bias\n",
        "# outputs = np.dot(weights, inputs) + bias\n",
        "print(outputs)"
      ],
      "metadata": {
        "colab": {
          "base_uri": "https://localhost:8080/"
        },
        "id": "Xok5uml9b9FI",
        "outputId": "1b05e4f8-0c9f-4999-c990-ba63fa7d6130"
      },
      "execution_count": 2,
      "outputs": [
        {
          "output_type": "stream",
          "name": "stdout",
          "text": [
            "4.8\n"
          ]
        }
      ]
    },
    {
      "cell_type": "markdown",
      "source": [
        "*layers of neuron using numpy*"
      ],
      "metadata": {
        "id": "Zche-Uo5h3kH"
      }
    },
    {
      "cell_type": "code",
      "source": [
        "inputs = [1,2,3,2.5]\n",
        "weights = [[0.2, 0.8, -0.5, 1],\n",
        " [0.5, -0.91, 0.26, -0.5],\n",
        " [-0.26, -0.27, 0.17, 0.87]]\n",
        "biases = [2, 3, 0.5]\n",
        "layer_outputs = np.dot(weights, inputs) + biases\n",
        "print(layer_outputs)"
      ],
      "metadata": {
        "colab": {
          "base_uri": "https://localhost:8080/"
        },
        "id": "x4e5gwVrhC84",
        "outputId": "d444b726-0986-4f9c-bd49-1fc6f1749de8"
      },
      "execution_count": 3,
      "outputs": [
        {
          "output_type": "stream",
          "name": "stdout",
          "text": [
            "[4.8   1.21  2.385]\n"
          ]
        }
      ]
    },
    {
      "cell_type": "markdown",
      "source": [
        "LAYER OF NEURONS AND BATCH OF DATA USING NUMPY"
      ],
      "metadata": {
        "id": "Wy7GhMFBWtBH"
      }
    },
    {
      "cell_type": "code",
      "source": [
        "inputs = [[1.0, 2.0, 3.0, 2.5],\n",
        "          [2.0, 5.0, -1.0, 2.0],\n",
        "          [-1.5, 2.7, 3.3, -0.8]]\n",
        "weights = [[0.2, 0.8, -0.5, 1],\n",
        " [0.5, -0.91, 0.26, -0.5],\n",
        " [-0.26, -0.27, 0.17, 0.87]]\n",
        "biases = [2, 3, 0.5]\n",
        "\n",
        "# we cannot transpose lists in python, hence we convert weight to array\n",
        "\n",
        "outputs = np.dot(inputs,np.array(weights).T)+biases\n",
        "print(outputs)"
      ],
      "metadata": {
        "colab": {
          "base_uri": "https://localhost:8080/"
        },
        "id": "78pEEsPvUuet",
        "outputId": "f06af689-7fc0-4951-8520-18d6502c780d"
      },
      "execution_count": 5,
      "outputs": [
        {
          "output_type": "stream",
          "name": "stdout",
          "text": [
            "[[ 4.8    1.21   2.385]\n",
            " [ 8.9   -1.81   0.2  ]\n",
            " [ 1.41   1.051  0.026]]\n"
          ]
        }
      ]
    },
    {
      "cell_type": "markdown",
      "source": [
        "2 LAYERS AND BATCH OF DATA USING NUMPY"
      ],
      "metadata": {
        "id": "VAL7xqGlh-Ah"
      }
    },
    {
      "cell_type": "code",
      "source": [
        "import numpy as np\n",
        "\n",
        "inputs = [[1, 2, 3, 2.5],\n",
        "          [2., 5., -1., 2],\n",
        "          [-1.5, 2.7, 3.3, -0.8]]\n",
        "\n",
        "weights = [[0.2, 0.8, -0.5, 1],\n",
        "           [0.5, -0.91, 0.26, -0.5],\n",
        "           [-0.26, -0.27, 0.17, 0.87]]\n",
        "\n",
        "biases = [2, 3, 0.5]\n",
        "\n",
        "weights2 = [[0.1, -0.14, 0.5],\n",
        "            [-0.5, 0.12, -0.33],\n",
        "            [-0.44, 0.73, -0.13]]\n",
        "\n",
        "biases2 = [-1, 2, -0.5]\n",
        "\n",
        "inputs_array = np.array(inputs)\n",
        "weights_array = np.array(weights)\n",
        "biases_array = np.array(biases)\n",
        "weights2_array = np.array(weights2)\n",
        "biases2_array = np.array(biases2)\n",
        "\n",
        "layer1_OP = np.dot(inputs_array,weights_array.T) +biases_array\n",
        "\n",
        "layer2_OP = np.dot(layer1_OP, weights2_array.T) +biases2_array\n",
        "\n",
        "print(layer2_OP)"
      ],
      "metadata": {
        "colab": {
          "base_uri": "https://localhost:8080/"
        },
        "id": "8LBPBQP9XMJ1",
        "outputId": "10a7736b-44b8-4e26-d493-a687c1062d3a"
      },
      "execution_count": 6,
      "outputs": [
        {
          "output_type": "stream",
          "name": "stdout",
          "text": [
            "[[ 0.5031  -1.04185 -2.03875]\n",
            " [ 0.2434  -2.7332  -5.7633 ]\n",
            " [-0.99314  1.41254 -0.35655]]\n"
          ]
        }
      ]
    },
    {
      "cell_type": "code",
      "source": [],
      "metadata": {
        "id": "k15K0UZwihjb"
      },
      "execution_count": null,
      "outputs": []
    }
  ]
}